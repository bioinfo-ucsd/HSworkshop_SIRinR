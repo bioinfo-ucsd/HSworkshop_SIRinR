{
 "cells": [
  {
   "cell_type": "markdown",
   "metadata": {},
   "source": [
    "To run go to https://mybinder.org/v2/gh/jennifer-bio/workshops/HEAD?filepath=SIR_model_R.ipynb\n",
    "\n",
    "\n",
    "To see lesson plan "
   ]
  }
 ],
 "metadata": {
  "kernelspec": {
   "display_name": "R",
   "language": "R",
   "name": "ir"
  },
  "language_info": {
   "codemirror_mode": "r",
   "file_extension": ".r",
   "mimetype": "text/x-r-source",
   "name": "R",
   "pygments_lexer": "r",
   "version": "3.6.1"
  }
 },
 "nbformat": 4,
 "nbformat_minor": 2
}
