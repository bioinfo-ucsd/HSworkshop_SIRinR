{
 "cells": [
  {
   "cell_type": "markdown",
   "metadata": {},
   "source": [
    "### See updated lesson plan and source code https://github.com/jennifer-bio/workshops\n",
    "### Run code online with https://mybinder.org/v2/gh/jennifer-bio/workshops.git/master \n",
    "\n",
    "#### Notes on this notobook\n",
    "The code is writen in R which is a \"programming language and free software environment for statistical computing\"\n",
    "\n",
    "To run each grey block (cell), click on it and hit the 'run' button on the above tool bar - you need to run all of the cells otherwise the later cells will not work\n",
    "\n",
    "When there is a '#', this is a comment which is not run as code but is meant for the user to read \n"
   ]
  },
  {
   "cell_type": "code",
   "execution_count": 4,
   "metadata": {},
   "outputs": [
    {
     "name": "stderr",
     "output_type": "stream",
     "text": [
      "Registered S3 methods overwritten by 'ggplot2':\n",
      "  method         from \n",
      "  [.quosures     rlang\n",
      "  c.quosures     rlang\n",
      "  print.quosures rlang\n",
      "\n",
      "Attaching package: 'dplyr'\n",
      "\n",
      "The following object is masked from 'package:reshape':\n",
      "\n",
      "    rename\n",
      "\n",
      "The following objects are masked from 'package:stats':\n",
      "\n",
      "    filter, lag\n",
      "\n",
      "The following objects are masked from 'package:base':\n",
      "\n",
      "    intersect, setdiff, setequal, union\n",
      "\n"
     ]
    }
   ],
   "source": [
    "\n",
    "options(warn = -1) # Suppress warnings\n",
    "\n",
    "#'library(X)' tells the compter to check all of the functions and terms in X referance library \n",
    "#this lets you use functions that you or others made \n",
    "library(reshape)\n",
    "library(ggplot2)\n",
    "library(dplyr)\n",
    "\n",
    "options(repr.plot.width = 25, repr.plot.height = 8) # set plot size\n",
    "\n",
    "#feel free the ignore the red box that will pop up"
   ]
  },
  {
   "cell_type": "markdown",
   "metadata": {},
   "source": [
    "# Part 1: Introduction to epidemiology and the  SIR model \n",
    "\n",
    "    Before getting started with the activity we will introduce a little bit of background\n",
    "    S: Susceptible (i.e. Healthy)\n",
    "    I: Infectious (i.e. Infected)\n",
    "    R: Removed (i.e. a person can be removed from population by vacine/dead/isolated quarantine)\n",
    "    \n",
    "    beta: transmission rate (susceptible -> infectious)\n",
    "    gamma: removal rate (infectious -> remove)\n",
    "    \n",
    "    R-repoductive number: beta*S/gamma\n",
    "    R0-Basic reporodcutive number: beta/gamma\n",
    "\n",
    "# What's what: setting up the data "
   ]
  },
  {
   "cell_type": "code",
   "execution_count": 1,
   "metadata": {},
   "outputs": [
    {
     "data": {
      "text/html": [
       "<table>\n",
       "<caption>A data.frame: 4 × 6</caption>\n",
       "<thead>\n",
       "\t<tr><th></th><th scope=col>S</th><th scope=col>I</th><th scope=col>R</th><th scope=col>city</th><th scope=col>beta</th><th scope=col>gamma</th></tr>\n",
       "\t<tr><th></th><th scope=col>&lt;dbl&gt;</th><th scope=col>&lt;dbl&gt;</th><th scope=col>&lt;dbl&gt;</th><th scope=col>&lt;chr&gt;</th><th scope=col>&lt;dbl&gt;</th><th scope=col>&lt;dbl&gt;</th></tr>\n",
       "</thead>\n",
       "<tbody>\n",
       "\t<tr><th scope=row>city_A</th><td>0.99</td><td>0.01</td><td>0.0</td><td>city_A</td><td>1.5</td><td>0.2</td></tr>\n",
       "\t<tr><th scope=row>city_B</th><td>0.80</td><td>0.10</td><td>0.1</td><td>city_B</td><td>1.5</td><td>0.2</td></tr>\n",
       "\t<tr><th scope=row>city_C</th><td>0.50</td><td>0.20</td><td>0.3</td><td>city_C</td><td>1.5</td><td>0.2</td></tr>\n",
       "\t<tr><th scope=row>city_D</th><td>0.60</td><td>0.30</td><td>0.1</td><td>city_D</td><td>1.5</td><td>0.2</td></tr>\n",
       "</tbody>\n",
       "</table>\n"
      ],
      "text/latex": [
       "A data.frame: 4 × 6\n",
       "\\begin{tabular}{r|llllll}\n",
       "  & S & I & R & city & beta & gamma\\\\\n",
       "  & <dbl> & <dbl> & <dbl> & <chr> & <dbl> & <dbl>\\\\\n",
       "\\hline\n",
       "\tcity\\_A & 0.99 & 0.01 & 0.0 & city\\_A & 1.5 & 0.2\\\\\n",
       "\tcity\\_B & 0.80 & 0.10 & 0.1 & city\\_B & 1.5 & 0.2\\\\\n",
       "\tcity\\_C & 0.50 & 0.20 & 0.3 & city\\_C & 1.5 & 0.2\\\\\n",
       "\tcity\\_D & 0.60 & 0.30 & 0.1 & city\\_D & 1.5 & 0.2\\\\\n",
       "\\end{tabular}\n"
      ],
      "text/markdown": [
       "\n",
       "A data.frame: 4 × 6\n",
       "\n",
       "| <!--/--> | S &lt;dbl&gt; | I &lt;dbl&gt; | R &lt;dbl&gt; | city &lt;chr&gt; | beta &lt;dbl&gt; | gamma &lt;dbl&gt; |\n",
       "|---|---|---|---|---|---|---|\n",
       "| city_A | 0.99 | 0.01 | 0.0 | city_A | 1.5 | 0.2 |\n",
       "| city_B | 0.80 | 0.10 | 0.1 | city_B | 1.5 | 0.2 |\n",
       "| city_C | 0.50 | 0.20 | 0.3 | city_C | 1.5 | 0.2 |\n",
       "| city_D | 0.60 | 0.30 | 0.1 | city_D | 1.5 | 0.2 |\n",
       "\n"
      ],
      "text/plain": [
       "       S    I    R   city   beta gamma\n",
       "city_A 0.99 0.01 0.0 city_A 1.5  0.2  \n",
       "city_B 0.80 0.10 0.1 city_B 1.5  0.2  \n",
       "city_C 0.50 0.20 0.3 city_C 1.5  0.2  \n",
       "city_D 0.60 0.30 0.1 city_D 1.5  0.2  "
      ]
     },
     "metadata": {},
     "output_type": "display_data"
    }
   ],
   "source": [
    "beta  = 1.5   # transmission rate\n",
    "gamma = 0.2   # removal rate\n",
    "\n",
    "data = data.frame(\"S\" = as.double(), \"I\" = as.double(), \"R\" = as.double()) #make table with col S I and R called data\n",
    "\n",
    "#fills in table with 3 rows \n",
    "data[\"city_A\",] = c(0.99, 0.01, 0) \n",
    "data[\"city_B\",] = c(0.80, 0.10, 0.10)\n",
    "data[\"city_C\",] = c(0.50, 0.20, 0.30)\n",
    "data[\"city_D\",] = c(0.60, 0.30, 0.10)\n",
    "\n",
    "\n",
    "data$city  = rownames(data)\n",
    "\n",
    "#adds the same beta and gamma for each row\n",
    "data$beta  = beta\n",
    "data$gamma = gamma\n",
    "\n",
    "#prints table below\n",
    "data\n"
   ]
  },
  {
   "cell_type": "markdown",
   "metadata": {},
   "source": [
    "# Modeling changes to the population over time"
   ]
  },
  {
   "cell_type": "code",
   "execution_count": 2,
   "metadata": {},
   "outputs": [],
   "source": [
    "\n",
    "#this is a function, we can call time_step(data) at anypoint after running this code \n",
    "#it will do the steps listed in the '{}'\n",
    "\n",
    "time_step = function(data){\n",
    "    #data$city is a list of the values (the city names) stored in the city col of the data table, \n",
    "    #here we are saying do everything in the '{}' for each city\n",
    "    #data['city_A'] refers to the row of data that is called 'city_A'\n",
    "    #data['city_A', \"S\"] refers to the value that is in 'city_A' row and 'S' col\n",
    "    for (city in data$city){\n",
    "        S = data[city, \"S\"] # assign S\n",
    "        I = data[city, \"I\"] # assign I\n",
    "        R = data[city, \"R\"] # assign R\n",
    "        \n",
    "        beta  = data[city, \"beta\"] #saves the current value of beta for city as beta\n",
    "        gamma = data[city, \"gamma\"]\n",
    "        \n",
    "        data[city, \"S\"] = S - beta*S*I           # change in S\n",
    "        data[city, \"I\"] = I + beta*S*I - gamma*I # change in I\n",
    "        data[city, \"R\"] = R + gamma*I            # change in R\n",
    "    }\n",
    "    \n",
    "    return(data)\n",
    "}\n"
   ]
  },
  {
   "cell_type": "code",
   "execution_count": 5,
   "metadata": {},
   "outputs": [
    {
     "data": {
      "text/html": [
       "<table>\n",
       "<caption>A data.frame: 4 × 6</caption>\n",
       "<thead>\n",
       "\t<tr><th></th><th scope=col>S</th><th scope=col>I</th><th scope=col>R</th><th scope=col>city</th><th scope=col>beta</th><th scope=col>gamma</th></tr>\n",
       "\t<tr><th></th><th scope=col>&lt;dbl&gt;</th><th scope=col>&lt;dbl&gt;</th><th scope=col>&lt;dbl&gt;</th><th scope=col>&lt;chr&gt;</th><th scope=col>&lt;dbl&gt;</th><th scope=col>&lt;dbl&gt;</th></tr>\n",
       "</thead>\n",
       "<tbody>\n",
       "\t<tr><th scope=row>city_A</th><td>0.99</td><td>0.01</td><td>0.0</td><td>city_A</td><td>1.5</td><td>0.2</td></tr>\n",
       "\t<tr><th scope=row>city_B</th><td>0.80</td><td>0.10</td><td>0.1</td><td>city_B</td><td>1.5</td><td>0.2</td></tr>\n",
       "\t<tr><th scope=row>city_C</th><td>0.50</td><td>0.20</td><td>0.3</td><td>city_C</td><td>1.5</td><td>0.2</td></tr>\n",
       "\t<tr><th scope=row>city_D</th><td>0.60</td><td>0.30</td><td>0.1</td><td>city_D</td><td>1.5</td><td>0.2</td></tr>\n",
       "</tbody>\n",
       "</table>\n"
      ],
      "text/latex": [
       "A data.frame: 4 × 6\n",
       "\\begin{tabular}{r|llllll}\n",
       "  & S & I & R & city & beta & gamma\\\\\n",
       "  & <dbl> & <dbl> & <dbl> & <chr> & <dbl> & <dbl>\\\\\n",
       "\\hline\n",
       "\tcity\\_A & 0.99 & 0.01 & 0.0 & city\\_A & 1.5 & 0.2\\\\\n",
       "\tcity\\_B & 0.80 & 0.10 & 0.1 & city\\_B & 1.5 & 0.2\\\\\n",
       "\tcity\\_C & 0.50 & 0.20 & 0.3 & city\\_C & 1.5 & 0.2\\\\\n",
       "\tcity\\_D & 0.60 & 0.30 & 0.1 & city\\_D & 1.5 & 0.2\\\\\n",
       "\\end{tabular}\n"
      ],
      "text/markdown": [
       "\n",
       "A data.frame: 4 × 6\n",
       "\n",
       "| <!--/--> | S &lt;dbl&gt; | I &lt;dbl&gt; | R &lt;dbl&gt; | city &lt;chr&gt; | beta &lt;dbl&gt; | gamma &lt;dbl&gt; |\n",
       "|---|---|---|---|---|---|---|\n",
       "| city_A | 0.99 | 0.01 | 0.0 | city_A | 1.5 | 0.2 |\n",
       "| city_B | 0.80 | 0.10 | 0.1 | city_B | 1.5 | 0.2 |\n",
       "| city_C | 0.50 | 0.20 | 0.3 | city_C | 1.5 | 0.2 |\n",
       "| city_D | 0.60 | 0.30 | 0.1 | city_D | 1.5 | 0.2 |\n",
       "\n"
      ],
      "text/plain": [
       "       S    I    R   city   beta gamma\n",
       "city_A 0.99 0.01 0.0 city_A 1.5  0.2  \n",
       "city_B 0.80 0.10 0.1 city_B 1.5  0.2  \n",
       "city_C 0.50 0.20 0.3 city_C 1.5  0.2  \n",
       "city_D 0.60 0.30 0.1 city_D 1.5  0.2  "
      ]
     },
     "metadata": {},
     "output_type": "display_data"
    },
    {
     "data": {
      "image/png": "[encoded data removed]",
      "text/plain": [
       "plot without title"
      ]
     },
     "metadata": {},
     "output_type": "display_data"
    }
   ],
   "source": [
    "#run this cell with differnt paramters to see how things change due to parmaters\n",
    "\n",
    "# 1. Setting up the data -----------------\n",
    "\n",
    "beta  = 1.5   # transmission rate\n",
    "gamma = 0.2   # recovery rate\n",
    "\n",
    "data            = data.frame(\"S\" = as.double(), \"I\" = as.double(), \"R\" = as.double())\n",
    "data[\"city_A\",] = c(0.99, 0.01, 0) \n",
    "data[\"city_B\",] = c(0.80, 0.10, 0.10)\n",
    "data[\"city_C\",] = c(0.50, 0.20, 0.30)\n",
    "data[\"city_D\",] = c(0.60, 0.30, 0.10)\n",
    "\n",
    "data$city  = rownames(data)\n",
    "data$beta  = beta\n",
    "data$gamma = gamma\n",
    "\n",
    "data\n",
    "\n",
    "# 2. Model the dynamics over a given time -----------------\n",
    "\n",
    "master      = data            # save starting values to master\n",
    "master$time = 0               # add time column \n",
    "\n",
    "for (i in 1:20){              # for 20 time points:\n",
    "    a      = time_step(data)  # call function and save updated values to \"a\"\n",
    "    data   = a                # re-initialize \"data\"\n",
    "    a$time = i                # add time column\n",
    "    master = rbind(master, a) # save updated values to \"master\"\n",
    "}\n",
    "\n",
    "# 3. See the changes -----------------\n",
    "     \n",
    "ggplot(melt(master[,c(\"S\", \"I\", \"R\", \"city\", \"time\")], id = c(\"time\", \"city\")), aes(x = time,  y = value, color = variable )) +  # assign x- and y-values\n",
    "    geom_line(size = 3) +  theme_bw() + facet_grid(~city) +                       # plot line graph with each city in separate plots\n",
    "    theme(axis.text    = element_text(size = 20),                         # increase axis text size     \n",
    "          axis.title   = element_text(size = 20),                         # increase axis title size\n",
    "          legend.text  = element_text(size = 20),                         # increase legent text size\n",
    "          legend.title = element_blank(),                                 # remove title in legend\n",
    "          strip.text   = element_text(size=25)) +                         # increase plot title size\n",
    "    ylab(\"Proportion of Population\") +                                    # set y-axis title\n",
    "    scale_color_manual(values = c(\"#00ee00\", \"#ff0000\", \"#c0c0c0\")) +     # set colors\n",
    "    guides(color = guide_legend(override = list(size = 20)))              # enlarge legend symbols\n",
    "\n"
   ]
  },
  {
   "cell_type": "markdown",
   "metadata": {},
   "source": []
  },
  {
   "cell_type": "markdown",
   "metadata": {
    "collapsed": true
   },
   "source": [
    "# Part 2: Shock to system\n",
    "    \n",
    "    Two types of events:\n",
    "        1. Shock      (i.e. one instance)\n",
    "        2. Behavorial (i.e. long-term change)\n",
    "    \n",
    "    Shock is a one-time event where transmission can occur (i.e. alters S and I)\n",
    "    \n",
    "        Example: concert\n",
    "        \n",
    "        - event_beta: the rate of transmission for one instance during event\n",
    "        \n",
    "            data[city, \"S\"] = data[city, \"S\"] - (events[event, \"event_beta\"] * data[city, \"S\"] * data[city, \"I\"])\n",
    "            data[city, \"I\"] = data[city, \"I\"] + (events[event, \"event_beta\"] * data[city, \"S\"] * data[city, \"I\"])\n",
    "        \n",
    "            1. = 0: no change\n",
    "            2. > 0: transmission during event\n",
    "            \n",
    "    Behavorial is an ongoing situation where tranmission/remove rates change (i.e. alters beta and/or gamma)\n",
    "    \n",
    "        Example: state opens, restaurants open\n",
    "    \n",
    "        - effect_of_beta: changes beta for the rest of simulation\n",
    "        \n",
    "            data[city, \"beta\"]  = data[city, \"beta\"]  * events[event, \"effect_on_beta\"]\n",
    "        \n",
    "            1. > 1: increases beta (i.e. higher tranmission rate)\n",
    "            2. < 1: decreases beta (i.e. lower transmission rate)\n",
    "            3. = 1: no change in beta\n",
    "            \n",
    "        - effect of gamma: changes gamma for rest of simulation\n",
    "        \n",
    "            data[city, \"gamma\"] = data[city, \"gamma\"] * events[event, \"effect_on_gamma\"]\n",
    "            \n",
    "            1. > 1: increases gamma (i.e. higher remove rate)\n",
    "            2. < 1: decreases gamma (i.e. lower remove rate) \n",
    "            3. = 1: no change in gamma\n",
    "    # Examples of events\n"
   ]
  },
  {
   "cell_type": "markdown",
   "metadata": {
    "collapsed": true
   },
   "source": [
    "#Defining event effects"
   ]
  },
  {
   "cell_type": "code",
   "execution_count": null,
   "metadata": {
    "collapsed": true
   },
   "outputs": [],
   "source": [
    "# 1. Initialize table -----------------\n",
    "\n",
    "\n",
    "\n",
    "events = data.frame(\"event_name\"      = as.character(\"no change\"), \n",
    "                    \"type\"            = as.character(\"behavorial\"), \n",
    "                    \"effect_on_beta\"  = 1, \n",
    "                    \"effect_on_gamma\" = 1, \n",
    "                    \"event_beta\"      = 0)\n",
    "\n",
    "\n",
    "# 2. Add events -----------------\n",
    "\n",
    "temp <- data.frame(\"concert\"              , \"shock\"      , 1  , 1  , 2)\n",
    "names(temp) <- c(\"event_name\" , \"type\", \"effect_on_beta\", \"effect_on_gamma\", \"event_beta\")\n",
    "events <- rbind(events, temp)\n",
    "\n",
    "temp <- data.frame(\"state_open\"           , \"behavorial\" , 1.5, 1  , 0  )\n",
    "names(temp) <- c(\"event_name\" , \"type\", \"effect_on_beta\", \"effect_on_gamma\", \"event_beta\")\n",
    "events <- rbind(events, temp)\n",
    "\n",
    "temp <- data.frame(\"hospital_full\"        , \"behavorial\" , 1  , 0.8, 0  )\n",
    "names(temp) <- c(\"event_name\" , \"type\", \"effect_on_beta\", \"effect_on_gamma\", \"event_beta\")\n",
    "events <- rbind(events, temp)\n",
    "\n",
    "temp <- data.frame(\"improved_treatments\"  , \"behavorial\" , 1  , 2, 0  )\n",
    "names(temp) <- c(\"event_name\" , \"type\", \"effect_on_beta\", \"effect_on_gamma\", \"event_beta\")\n",
    "events <- rbind(events, temp)\n",
    "\n",
    "temp <- data.frame(\"natural_disaster\"     , \"shock\"      , 1  , 1  , 4)\n",
    "names(temp) <- c(\"event_name\" , \"type\", \"effect_on_beta\", \"effect_on_gamma\", \"event_beta\")\n",
    "events <- rbind(events, temp)\n",
    "\n",
    "temp <- data.frame(\"distancing_compliance\", \"behavorial\" , 0.5, 1  , 0  )\n",
    "names(temp) <- c(\"event_name\" , \"type\", \"effect_on_beta\", \"effect_on_gamma\", \"event_beta\")\n",
    "events <- rbind(events, temp)\n",
    "\n",
    "temp <- data.frame(\"vaccine\"              , \"behavorial\" , 0.05, 1  , 0  )\n",
    "names(temp) <- c(\"event_name\" , \"type\", \"effect_on_beta\", \"effect_on_gamma\", \"event_beta\")\n",
    "events <- rbind(events, temp)\n",
    "\n",
    "temp <- data.frame(\"civil_unrest\"         , \"shock\"      , 1  , 1  , 3)\n",
    "names(temp) <- c(\"event_name\" , \"type\", \"effect_on_beta\", \"effect_on_gamma\", \"event_beta\")\n",
    "events <- rbind(events, temp)\n",
    "\n",
    "temp <- data.frame(\"schools_reopen_temp\"  , \"shock\"      , 1  , 1  , 3)\n",
    "names(temp) <- c(\"event_name\" , \"type\", \"effect_on_beta\", \"effect_on_gamma\", \"event_beta\")\n",
    "events <- rbind(events, temp)\n",
    "\n",
    "\n",
    "\n",
    "# 3. Convert to numbers -----------------\n",
    "\n",
    "events$effect_on_beta  = as.double(events$effect_on_beta)\n",
    "events$effect_on_gamma = as.double(events$effect_on_gamma)\n",
    "events$event_beta      = as.double(events$event_beta)\n",
    "\n",
    "\n",
    "events"
   ]
  },
  {
   "cell_type": "code",
   "execution_count": null,
   "metadata": {
    "collapsed": true
   },
   "outputs": [],
   "source": [
    "# Modeling changes in beta and gamma \n",
    "#setting up event funtinos"
   ]
  },
  {
   "cell_type": "code",
   "execution_count": null,
   "metadata": {
    "collapsed": true
   },
   "outputs": [],
   "source": [
    "# This function selects a random event and applies it to a random city, changing its corresponding parameters (i.e. S, I, beta, gamma). \n",
    "\n",
    "event = function(data, time){   \n",
    "    \n",
    "    # Select random event\n",
    "    event = sample(events$event_name, 1)\n",
    "\n",
    "    # Select random city\n",
    "    city  = sample(data$city, 1)\n",
    "    \n",
    "    if (events[event, \"type\"] == \"shock\") { message(\"Shock!\") }\n",
    "    else { message(\"Behavior change!\") }\n",
    "    \n",
    "    message(paste(event, \"is happening in\", city))\n",
    "    \n",
    "    message(paste(\"effect on beta:\", events[event, \"effect_on_beta\"]))\n",
    "    message(paste(\"effect on gamma:\", events[event, \"effect_on_gamma\"]))\n",
    "    message(paste(\"event_beta:\", events[event, \"event_beta\"]))\n",
    "    \n",
    "    message(\"\\n\")\n",
    "    \n",
    "    # Change beta/gamma \n",
    "    \n",
    "    message(paste(\"At time\", time, \", if there had been no event: -------\"))\n",
    "    message(paste0(capture.output(data), collapse = \"\\n\"))\n",
    "    \n",
    "    data[city, \"beta\"]  = data[city, \"beta\"]  * events[event, \"effect_on_beta\"]\n",
    "    data[city, \"gamma\"] = data[city, \"gamma\"] * events[event, \"effect_on_gamma\"]\n",
    "    \n",
    "    data[city, \"S\"] = data[city, \"S\"] - (events[event, \"event_beta\"] * data[city, \"S\"] * data[city, \"I\"])\n",
    "    data[city, \"I\"] = data[city, \"I\"] + (events[event, \"event_beta\"] * data[city, \"S\"] * data[city, \"I\"])\n",
    "    \n",
    "    message(\"But with event: -------\")\n",
    "    message(paste0(capture.output(data), collapse = \"\\n\"))\n",
    "\n",
    "    return(data)\n",
    "\n",
    "}\n",
    "\n",
    "# This function allows us to see how this shock impacts the city over time\n",
    "time_step_event = function(data, time){\n",
    "    \n",
    "    data = event(data, time)\n",
    "    \n",
    "    for (city in rownames(data)){\n",
    "        S = data[city, \"S\"]\n",
    "        I = data[city, \"I\"]\n",
    "        R = data[city, \"R\"]\n",
    "\n",
    "        beta  = data[city, \"beta\"]\n",
    "        gamma = data[city, \"gamma\"]\n",
    "        \n",
    "        data[city, \"S\"] = S - beta*S*I\n",
    "        data[city, \"I\"] = I + beta*S*I - gamma*I\n",
    "        data[city, \"R\"] = R + gamma*I\n",
    "\n",
    "    }\n",
    "    \n",
    "    return(data)\n",
    "}\n"
   ]
  },
  {
   "cell_type": "markdown",
   "metadata": {
    "collapsed": true
   },
   "source": [
    "# Running the shocks"
   ]
  },
  {
   "cell_type": "code",
   "execution_count": null,
   "metadata": {
    "collapsed": true
   },
   "outputs": [],
   "source": [
    "# Note: Refer to slide X \n",
    "\n",
    "# 1. Initialize our data (same as Part 1) -----------------\n",
    "\n",
    "beta  = 1.5  # initialize beta\n",
    "gamma = 0.2  # initialize gamma\n",
    "\n",
    "data            = data.frame(\"S\" = as.double(), \"I\" = as.double(), \"R\" = as.double())\n",
    "data[\"city_A\",] = c(0.99, 0.01, 0)\n",
    "data[\"city_B\",] = c(0.80, 0.10, 0.10)\n",
    "data[\"city_C\",] = c(0.50, 0.20, 0.30)\n",
    "data[\"city_D\",] = c(0.60, 0.30, 0.10)\n",
    "\n",
    "data$beta       = beta\n",
    "data$gamma      = gamma\n",
    "data$city       = rownames(data)\n",
    "\n",
    "original.data   = data         # save this data - we will need this again\n",
    "\n",
    "#3. Model over time( WITH event) -----------------\n",
    "\n",
    "data = original.data\n",
    "\n",
    "yes_event      = data                           # save starting values to master\n",
    "yes_event$time = 0                              # add time column \n",
    "\n",
    "for (month in 1:24){                                # for a given time:\n",
    "    a = time_step_event(data, month)\n",
    "    data   = a                                  # re-initialize \"data\"\n",
    "    a$time = month                                  # add time column\n",
    "    yes_event = rbind(yes_event, a)             # save new values to \"master\"\n",
    "}\n",
    "  \n",
    "yes_event$has_event = TRUE\n",
    "\n",
    "\n",
    "# 4. Visualize our results -----------------\n",
    "\n",
    "ggplot(melt(yes_event[,c(\"city\", \"has_event\", \"time\", \"S\", \"I\", \"R\")], id = c(\"city\", \"has_event\", \"time\")), \n",
    "       aes(x = time,  y = value, color = variable)) +  # assign x- and y-values\n",
    "    geom_line(alpha = 0.6, size = 3) + \n",
    "    facet_grid(~city) + theme_bw() +                             # plot line graph with each city in separate plots\n",
    "    theme(axis.text    = element_text(size = 20),                            # increase axis text size     \n",
    "          axis.title   = element_text(size = 20),                            # increase axis title size\n",
    "          legend.text  = element_text(size = 20),                            # increase legent text size\n",
    "          legend.title = element_blank(),                                    # remove title in legend\n",
    "          strip.text   = element_text(size=25)) +                            # increase plot title size\n",
    "    ylab(\"Proportion of Population\") +                                       # set y-axis title\n",
    "    scale_color_manual(values = c(\"#00ee00\", \"#ff0000\", \"#c0c0c0\"),\n",
    "                       labels = c(\"Susceptible\", \"Infected\", \"Removed\")) +        # set colors\n",
    "    guides(color = guide_legend(override = list(size = 20))) +               # enlarge legend symbols\n",
    "    scale_linetype_manual(values=c(\"solid\", \"dotted\"),\n",
    "                          labels = c(\"yes_event\")) + xlab(\"Months\")\n"
   ]
  },
  {
   "cell_type": "markdown",
   "metadata": {
    "collapsed": true
   },
   "source": [
    "# Explore on your own time - how one event makes changes"
   ]
  },
  {
   "cell_type": "code",
   "execution_count": null,
   "metadata": {
    "collapsed": true
   },
   "outputs": [],
   "source": [
    "# 1. Initialize our data (same as Part 1) -----------------\n",
    "\n",
    "beta  = 1.5  # initialize beta\n",
    "gamma = 0.2  # initialize gamma\n",
    "\n",
    "data            = data.frame(\"S\" = as.double(), \"I\" = as.double(), \"R\" = as.double())\n",
    "data[\"city_A\",] = c(0.99, 0.01, 0)\n",
    "data[\"city_B\",] = c(0.80, 0.10, 0.10)\n",
    "data[\"city_C\",] = c(0.50, 0.20, 0.30)\n",
    "data[\"city_D\",] = c(0.60, 0.30, 0.10)\n",
    "\n",
    "data$beta       = beta\n",
    "data$gamma      = gamma\n",
    "data$city       = rownames(data)\n",
    "\n",
    "original.data   = data         # save this data - we will need this again\n",
    "\n",
    "\n",
    "# 2. Model over time ( WITHOUT event) -----------------\n",
    "\n",
    "no_event      = data                            # save starting values to master\n",
    "no_event$time = 0                               # add time column \n",
    "\n",
    "for (i in 1:20){                                # for 20 time points:\n",
    "    a      = time_step(data)                    # call function and save new values to \"a\"\n",
    "    data   = a                                  # re-initialize \"data\"\n",
    "    a$time = i                                  # add time column\n",
    "    no_event = rbind(no_event, a)               # save new values to \"master\"\n",
    "}\n",
    "no_event$has_event  = FALSE\n",
    "\n",
    "\n",
    "#3. Model over time( WITH event) -----------------\n",
    "\n",
    "data = original.data\n",
    "\n",
    "yes_event      = data                           # save starting values to master\n",
    "yes_event$time = 0                              # add time column \n",
    "\n",
    "for (i in 1:20){                                # for a given time:\n",
    "    if (i == 5){ a = time_step_event(data, i) } # have event happen @ time = 5\n",
    "    else { a = time_step(data) }                # other times happen normally\n",
    "    data   = a                                  # re-initialize \"data\"\n",
    "    a$time = i                                  # add time column\n",
    "    yes_event = rbind(yes_event, a)             # save new values to \"master\"\n",
    "}\n",
    "  \n",
    "yes_event$has_event = TRUE\n",
    "\n",
    "\n",
    "# 4. Visualize our results -----------------\n",
    "\n",
    "master = rbind(no_event, yes_event)\n",
    "\n",
    "ggplot(melt(master[,c(\"city\", \"has_event\", \"time\", \"S\", \"I\", \"R\")], id = c(\"city\", \"has_event\", \"time\")), \n",
    "       aes(x = time,  y = value, linetype = has_event, color = variable)) +  # assign x- and y-values\n",
    "    geom_line(alpha = 0.6, size = 3) + \n",
    "    facet_grid(~city) + theme_bw() +                             # plot line graph with each city in separate plots\n",
    "    theme(axis.text    = element_text(size = 20),                            # increase axis text size     \n",
    "          axis.title   = element_text(size = 20),                            # increase axis title size\n",
    "          legend.text  = element_text(size = 20),                            # increase legent text size\n",
    "          legend.title = element_blank(),                                    # remove title in legend\n",
    "          strip.text   = element_text(size=25)) +                            # increase plot title size\n",
    "    ylab(\"Proportion of Population\") +                                       # set y-axis title\n",
    "    scale_color_manual(values = c(\"#00ee00\", \"#ff0000\", \"#c0c0c0\")) +        # set colors\n",
    "    guides(color = guide_legend(override = list(size = 20))) +               # enlarge legend symbols\n",
    "    scale_linetype_manual(values=c(\"solid\", \"dotted\"),\n",
    "                          labels = c(\"no_event\", \"yes_event\"))\n"
   ]
  },
  {
   "cell_type": "code",
   "execution_count": null,
   "metadata": {
    "collapsed": true
   },
   "outputs": [],
   "source": []
  },
  {
   "cell_type": "code",
   "execution_count": null,
   "metadata": {
    "collapsed": true
   },
   "outputs": [],
   "source": []
  },
  {
   "cell_type": "code",
   "execution_count": null,
   "metadata": {
    "collapsed": true
   },
   "outputs": [],
   "source": []
  }
 ],
 "metadata": {
  "kernelspec": {
   "display_name": "R",
   "language": "R",
   "name": "ir"
  },
  "language_info": {
   "codemirror_mode": "r",
   "file_extension": ".r",
   "mimetype": "text/x-r-source",
   "name": "R",
   "pygments_lexer": "r",
   "version": "3.6.1"
  }
 },
 "nbformat": 4,
 "nbformat_minor": 2
}
